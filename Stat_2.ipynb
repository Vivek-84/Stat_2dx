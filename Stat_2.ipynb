{
 "cells": [
  {
   "cell_type": "markdown",
   "id": "21a7f636",
   "metadata": {},
   "source": [
    "# What are the three measures of central tendency?"
   ]
  },
  {
   "cell_type": "code",
   "execution_count": 1,
   "id": "e09df859",
   "metadata": {},
   "outputs": [],
   "source": [
    "# There are three main measures of central tendency:\n",
    "# mean: It is the ratio of sum of n observations and n\n",
    "# median: it is the average of middle most value of n observations after sorting the observation\n",
    "# mode: it is highest frequency of a particular element in data.\n"
   ]
  },
  {
   "cell_type": "markdown",
   "id": "2233f7c9",
   "metadata": {},
   "source": [
    "#  What is the difference between the mean, median, and mode? How are they used to measure the central tendency of a dataset.\n"
   ]
  },
  {
   "cell_type": "code",
   "execution_count": 2,
   "id": "6a11a2ca",
   "metadata": {},
   "outputs": [],
   "source": [
    "# The mean is the average where the sum of all the numbers is divided by the total number of numbers, whereas the median is the\n",
    "# middle value in the list of given numbers numerically ordered from smallest to biggest and mode is the value of the number\n",
    "# which occurs most often in the list.\n",
    "\n",
    "# The 3 most common measures of central tendency are the mean, median and mode.\n",
    "# The mode is the most frequent value.\n",
    "# The median is the middle number in an ordered data set.\n",
    "# The mean is the sum of all values divided by the total number of values.\n",
    "\n",
    "\n"
   ]
  },
  {
   "cell_type": "markdown",
   "id": "87065730",
   "metadata": {},
   "source": [
    "#  Measure the three measures of central tendency for the given height data\n",
    " [178,177,176,177,178.2,178,175,179,180,175,178.9,176.2,177,172.5,178,176.5]"
   ]
  },
  {
   "cell_type": "code",
   "execution_count": 3,
   "id": "ad7a728a",
   "metadata": {},
   "outputs": [],
   "source": [
    "Add= 178+177+176+177+178.2+178+175+179+180+175+178.9+176.2+177+172.5+178+176.5"
   ]
  },
  {
   "cell_type": "code",
   "execution_count": 4,
   "id": "292e5630",
   "metadata": {},
   "outputs": [
    {
     "data": {
      "text/plain": [
       "2832.3"
      ]
     },
     "execution_count": 4,
     "metadata": {},
     "output_type": "execute_result"
    }
   ],
   "source": [
    "Add"
   ]
  },
  {
   "cell_type": "code",
   "execution_count": 5,
   "id": "9642530b",
   "metadata": {},
   "outputs": [
    {
     "data": {
      "text/plain": [
       "177.01875"
      ]
     },
     "execution_count": 5,
     "metadata": {},
     "output_type": "execute_result"
    }
   ],
   "source": [
    "Mean=(2832.3)/16\n",
    "Mean"
   ]
  },
  {
   "cell_type": "code",
   "execution_count": 6,
   "id": "cb4b0518",
   "metadata": {},
   "outputs": [],
   "source": [
    "l=[178,177,176,177,178.2,178,175,179,180,175,178.9,176.2,177,172.5,178,176.5]\n",
    "l.sort()"
   ]
  },
  {
   "cell_type": "code",
   "execution_count": 7,
   "id": "1ec39997",
   "metadata": {},
   "outputs": [
    {
     "data": {
      "text/plain": [
       "[172.5,\n",
       " 175,\n",
       " 175,\n",
       " 176,\n",
       " 176.2,\n",
       " 176.5,\n",
       " 177,\n",
       " 177,\n",
       " 177,\n",
       " 178,\n",
       " 178,\n",
       " 178,\n",
       " 178.2,\n",
       " 178.9,\n",
       " 179,\n",
       " 180]"
      ]
     },
     "execution_count": 7,
     "metadata": {},
     "output_type": "execute_result"
    }
   ],
   "source": [
    "l"
   ]
  },
  {
   "cell_type": "code",
   "execution_count": 8,
   "id": "b360e563",
   "metadata": {},
   "outputs": [
    {
     "data": {
      "text/plain": [
       "177.0"
      ]
     },
     "execution_count": 8,
     "metadata": {},
     "output_type": "execute_result"
    }
   ],
   "source": [
    "#Median=avg of middle most value\n",
    "Median=(177+177)/2\n",
    "Median"
   ]
  },
  {
   "cell_type": "code",
   "execution_count": 9,
   "id": "ee56d8cb",
   "metadata": {},
   "outputs": [
    {
     "data": {
      "text/html": [
       "<div>\n",
       "<style scoped>\n",
       "    .dataframe tbody tr th:only-of-type {\n",
       "        vertical-align: middle;\n",
       "    }\n",
       "\n",
       "    .dataframe tbody tr th {\n",
       "        vertical-align: top;\n",
       "    }\n",
       "\n",
       "    .dataframe thead th {\n",
       "        text-align: right;\n",
       "    }\n",
       "</style>\n",
       "<table border=\"1\" class=\"dataframe\">\n",
       "  <thead>\n",
       "    <tr style=\"text-align: right;\">\n",
       "      <th></th>\n",
       "      <th>0</th>\n",
       "    </tr>\n",
       "  </thead>\n",
       "  <tbody>\n",
       "    <tr>\n",
       "      <th>0</th>\n",
       "      <td>177.0</td>\n",
       "    </tr>\n",
       "    <tr>\n",
       "      <th>1</th>\n",
       "      <td>178.0</td>\n",
       "    </tr>\n",
       "  </tbody>\n",
       "</table>\n",
       "</div>"
      ],
      "text/plain": [
       "       0\n",
       "0  177.0\n",
       "1  178.0"
      ]
     },
     "execution_count": 9,
     "metadata": {},
     "output_type": "execute_result"
    }
   ],
   "source": [
    "# Mode = most frequent value\n",
    "import numpy as np\n",
    "import pandas as pd\n",
    "df= pd.DataFrame(l)\n",
    "df.mode()\n"
   ]
  },
  {
   "cell_type": "markdown",
   "id": "664a93f2",
   "metadata": {},
   "source": [
    "#  Find the standard deviation for the given data:\n",
    "\n",
    "[178,177,176,177,178.2,178,175,179,180,175,178.9,176.2,177,172.5,178,176.5]"
   ]
  },
  {
   "cell_type": "code",
   "execution_count": 10,
   "id": "d3d658f2",
   "metadata": {},
   "outputs": [
    {
     "data": {
      "text/plain": [
       "1.7885814036548633"
      ]
     },
     "execution_count": 10,
     "metadata": {},
     "output_type": "execute_result"
    }
   ],
   "source": [
    "l=[178,177,176,177,178.2,178,175,179,180,175,178.9,176.2,177,172.5,178,176.5]\n",
    "import numpy as np\n",
    "np.std(l)\n",
    "\n"
   ]
  },
  {
   "cell_type": "markdown",
   "id": "c5de6b17",
   "metadata": {},
   "source": [
    "#  How are measures of dispersion such as range, variance, and standard deviation used to describe the spread of a dataset? Provide an example.\n"
   ]
  },
  {
   "cell_type": "code",
   "execution_count": 11,
   "id": "7b2dd363",
   "metadata": {},
   "outputs": [],
   "source": [
    "# Range:\n",
    "# The range of the data is given as the difference between the maximum and the minimum values of the observations in the data.\n",
    "# For example, let’s say we have data on the number of customers walking in the store in a week. \n",
    "# example:\n",
    "# 10, 14, 8, 10, 15, 4, 7\n",
    "\n",
    "# Minimum value in data = 7 \n",
    "\n",
    "# Maximum Value in the data = 15\n",
    "\n",
    "# Range = Maximum Value in the data – Minimum value in the data  \n",
    "\n",
    "#            = 15 – 7 \n",
    "\n",
    "#            = 8 \n",
    "\n",
    "# Now we can say that the range of the data is 8. This gives us an idea about the spread of the data but doesn’t tell how the\n",
    "# data is distributed. \n",
    "\n",
    "# Varience:\n",
    "# The variance of the data is given by measuring the distance of the observed values from the mean of the distribution. \n",
    "# Here we are not concerned with the sign of the distance of the point, we are more interested in the magnitude. So,\n",
    "# we take squares of the distance from the mean. \n",
    "# Let’s say we have x1, x2, x3 …. xn as n observations and bar{x} be the mean. \n",
    "\n",
    "# (x_1 - bar{x})^2 + (x_2 - bar{x})^2 + (x_3 - bar{x})^2 .... (x_n - bar{x})^2 = sum^{n}_{0}(x_i - bar{x})^2/n\n",
    "\n",
    "\n",
    "# Standered Deviation:\n",
    "    \n",
    "# In the calculation of variance, notice that the units of the variance and the unit of the observations are not the same. So,\n",
    "# to remove this problem, we define standard deviation. It is denoted as \\sigma\n",
    "\n",
    "# sigma = sqrt{frac{sum^{n}_{0}(x_i - bar{x})^2}/{n}}\n",
    "\n",
    "\n",
    "# Q)Let’s say we have the following data, \n",
    "\n",
    "# [-3,-3,-3,-3,0,3,3,3,3]\n",
    "\n",
    "# Range\n",
    "\n",
    "# We need to find out the minimum and the maximum values of the data distribution. \n",
    "\n",
    "# Min Value = -3 \n",
    "\n",
    "# Max Value = +3 \n",
    "\n",
    "# Range = Max Value – Min Value \n",
    "\n",
    "#             = 3 – (-3) \n",
    "\n",
    "#             = 6 \n",
    "\n",
    "# Variance\n",
    "\n",
    "# To find the variance, we first need to find the mean, \n",
    "\n",
    "# Mean = frac{( -3  -3 -3 -3 + 0 + 3 + 3 + 3  +3 )}{10}\n",
    "\n",
    "#           = 0\n",
    "\n",
    "# We know the formula for Variance, \n",
    "\n",
    "# Variance =  frac{sum^{n}_{0}(x_i - bar{x})^2}{n}\n",
    "\n",
    "#                 = frac{(x_1 - \\bar{x})^2 + (x_2 - \\bar{x})^2 + (x_3 - \\bar{x})^2 .... (x_n - \\bar{x})^2}{n}\n",
    "\n",
    "#                 = frac{(-3 - 0)^2 + (-3 - 0)^2 + (-3 - 0)^2 + .... }{9}\n",
    "\n",
    "#                 = 9\n",
    "\n",
    "# Standard Deviation\n",
    "\n",
    "# sigma = sqrt{frac{sum^{n}_{0}(x_i - \\bar{x})^2}{n}}\n",
    "\n",
    "# ⇒ sigma = sqrt{9}\n",
    "\n",
    "# ⇒ sigma = 3\n",
    "\n",
    "\n"
   ]
  },
  {
   "cell_type": "markdown",
   "id": "e441f5c4",
   "metadata": {},
   "source": [
    "# What is a Venn diagram\n",
    "    "
   ]
  },
  {
   "cell_type": "code",
   "execution_count": 12,
   "id": "9138e75b",
   "metadata": {},
   "outputs": [],
   "source": [
    "# A Venn diagram is an illustration that uses circles to show the relationships among things or finite groups of things.\n",
    "# Circles that overlap have a commonality while circles that do not overlap do not share those traits. Venn diagrams help to\n",
    "# visually represent the similarities and differences between two concepts."
   ]
  },
  {
   "cell_type": "markdown",
   "id": "626ff717",
   "metadata": {},
   "source": [
    "#  For the two given sets A = (2,3,4,5,6,7) & B = (0,2,6,8,10). Find \n",
    "(i) \tA intersection B\n",
    "\n",
    "(ii)\tA ⋃ B"
   ]
  },
  {
   "cell_type": "code",
   "execution_count": 13,
   "id": "543032d2",
   "metadata": {},
   "outputs": [],
   "source": [
    "#(i) A intersection B\n",
    "# (2,6)\n",
    "\n",
    "\n",
    "#(ii) A ⋃ B\n",
    "#(0,2,3,4,5,6,7,8,10)"
   ]
  },
  {
   "cell_type": "markdown",
   "id": "07c5130a",
   "metadata": {},
   "source": [
    "# What do you understand about skewness in data"
   ]
  },
  {
   "cell_type": "code",
   "execution_count": 14,
   "id": "82e98cbd",
   "metadata": {},
   "outputs": [],
   "source": [
    "# Skewness is a measure of the asymmetry of a distribution. A distribution is asymmetrical when its left and right side are\n",
    "# not mirror images. You might want to calculate the skewness of a distribution to: Describe the distribution of a variable \n",
    "# alongside other descriptive statistics"
   ]
  },
  {
   "cell_type": "markdown",
   "id": "e0689f9b",
   "metadata": {},
   "source": [
    "#  If a data is right skewed then what will be the position of median with respect to mean"
   ]
  },
  {
   "cell_type": "code",
   "execution_count": 15,
   "id": "c60e8cad",
   "metadata": {},
   "outputs": [],
   "source": [
    "#For right skewed : \n",
    "#   mean > median >mode"
   ]
  },
  {
   "cell_type": "markdown",
   "id": "93955e19",
   "metadata": {},
   "source": [
    "#  Explain the difference between covariance and correlation. How are these measures used in statistical analysis\n"
   ]
  },
  {
   "cell_type": "code",
   "execution_count": 16,
   "id": "73dd890e",
   "metadata": {},
   "outputs": [],
   "source": [
    "# Both covariance and correlation measure the relationship and the dependency between two variables. Covariance indicates the\n",
    "# direction of the linear relationship between variables. Correlation measures both the strength and direction of the linear\n",
    "# relationship between two variables. Correlation values are standardized.\n",
    "\n",
    "# Covariance is central to the concept of correlation between two variables, as correlation is calculated by dividing the \n",
    "# covariance between two variables by the product of their standard deviations.\n",
    "\n",
    "# When it comes to choosing between Covariance vs Correlation, the latter stands to be the first choice as it remains unaffected\n",
    "# by the change in dimensions, location, and scale, and can also be used to make a comparison between two pairs of variables.\n",
    "# Since it is limited to a range of -1 to +1, it is useful to draw comparisons between variables across domains. However, an\n",
    "# important limitation is that both these concepts measure the only linear relationship."
   ]
  },
  {
   "cell_type": "markdown",
   "id": "15b94bb6",
   "metadata": {},
   "source": [
    "# What is the formula for calculating the sample mean? Provide an example calculation for a dataset.\n"
   ]
  },
  {
   "cell_type": "code",
   "execution_count": 17,
   "id": "53c3677d",
   "metadata": {},
   "outputs": [],
   "source": [
    "# # The general sample mean formula for calculating the sample mean is expressed as x̄ = ( Σ xi ) ÷ n. Here, x̄ denotes the \n",
    "#average\n",
    "# # value of the samples or sample mean, xi refers all X sample values and 'n' stands for the number of sample terms in the \n",
    "#given\n",
    "# # data.\n",
    "\n",
    "# Sample Question: Find the sample mean for the following set of numbers: 12, 13, 14, 16, 17, 40, 43, 55, 56, 67, 78, 78, 79, \n",
    "# 80, 81, 90, 99, 101, 102, 304, 306, 400, 401, 403, 404, 405.\n",
    "\n",
    "# Step 1:Add up all of the numbers:\n",
    "# 12 + 13 + 14 + 16 + 17 + 40 + 43 + 55 + 56 + 67 + 78 + 78 + 79 + 80 + 81 + 90 + 99 + 101 + 102 + 304 + 306 + 400 + 401 + 403\n",
    "# + 404 + 405 = 3744.\n",
    "\n",
    "# Step 2:Count the numbers of items in your data set. In this particular data set there are 26 items.\n",
    "\n",
    "# Step 3:Divide the number you found in Step 1 by the number you found in Step 2. 3744/26 = 144."
   ]
  },
  {
   "cell_type": "markdown",
   "id": "2481d8ff",
   "metadata": {},
   "source": [
    "# For a normal distribution data what is the relationship between its measure of central tendency?"
   ]
  },
  {
   "cell_type": "code",
   "execution_count": 18,
   "id": "3c96f143",
   "metadata": {},
   "outputs": [],
   "source": [
    "# For normally distributed data, all three measures of central tendency will give you the same answer so they can all be used.\n",
    "# In skewed distributions, the median is the best measure because it is unaffected by extreme outliers or non-symmetric\n",
    "# distributions of scores. The mean and mode can vary in skewed distributions.\n",
    "\n",
    "# Any normal distribution has a graph that is perfectly symmetric about a vertical line through its peak. Therefore, all \n",
    "# measures of central tendency (most commonly, the mean, median, and mode) give the same answer: the x -value of the peak.\n",
    "# for a normal distribution mean=mode=median\n"
   ]
  },
  {
   "cell_type": "markdown",
   "id": "0ce19296",
   "metadata": {},
   "source": [
    "# How is covariance different from correlation"
   ]
  },
  {
   "cell_type": "code",
   "execution_count": 20,
   "id": "d9ebeb98",
   "metadata": {},
   "outputs": [],
   "source": [
    "# Covarience:\n",
    "# It shows the extent to which two variables are dependent on each other,higher the number higher the dependency.\n",
    "# Range is -infinity to +infinity.\n",
    "# It is affected by scale of the variable.\n",
    "# It has defnit units as it is derived by multiplying two numbers and their units.\n",
    "\n",
    "# Correlation:\n",
    "# It measures the strength of two variables considiring other conditions sare constant.\n",
    "# Range is -1 to +1.\n",
    "# It is not affected by scale.\n",
    "# It is unitless and between -1 to +1.\n"
   ]
  },
  {
   "cell_type": "markdown",
   "id": "50fe5b7d",
   "metadata": {},
   "source": [
    "# How do outliers affect measures of central tendency and dispersion? Provide an example."
   ]
  },
  {
   "cell_type": "code",
   "execution_count": 30,
   "id": "c123b0ac",
   "metadata": {},
   "outputs": [
    {
     "data": {
      "text/html": [
       "<div>\n",
       "<style scoped>\n",
       "    .dataframe tbody tr th:only-of-type {\n",
       "        vertical-align: middle;\n",
       "    }\n",
       "\n",
       "    .dataframe tbody tr th {\n",
       "        vertical-align: top;\n",
       "    }\n",
       "\n",
       "    .dataframe thead th {\n",
       "        text-align: right;\n",
       "    }\n",
       "</style>\n",
       "<table border=\"1\" class=\"dataframe\">\n",
       "  <thead>\n",
       "    <tr style=\"text-align: right;\">\n",
       "      <th></th>\n",
       "      <th>A</th>\n",
       "    </tr>\n",
       "  </thead>\n",
       "  <tbody>\n",
       "    <tr>\n",
       "      <th>0</th>\n",
       "      <td>12</td>\n",
       "    </tr>\n",
       "    <tr>\n",
       "      <th>1</th>\n",
       "      <td>14</td>\n",
       "    </tr>\n",
       "    <tr>\n",
       "      <th>2</th>\n",
       "      <td>52</td>\n",
       "    </tr>\n",
       "    <tr>\n",
       "      <th>3</th>\n",
       "      <td>17</td>\n",
       "    </tr>\n",
       "    <tr>\n",
       "      <th>4</th>\n",
       "      <td>15</td>\n",
       "    </tr>\n",
       "    <tr>\n",
       "      <th>5</th>\n",
       "      <td>14</td>\n",
       "    </tr>\n",
       "    <tr>\n",
       "      <th>6</th>\n",
       "      <td>32</td>\n",
       "    </tr>\n",
       "    <tr>\n",
       "      <th>7</th>\n",
       "      <td>45</td>\n",
       "    </tr>\n",
       "    <tr>\n",
       "      <th>8</th>\n",
       "      <td>1000</td>\n",
       "    </tr>\n",
       "  </tbody>\n",
       "</table>\n",
       "</div>"
      ],
      "text/plain": [
       "      A\n",
       "0    12\n",
       "1    14\n",
       "2    52\n",
       "3    17\n",
       "4    15\n",
       "5    14\n",
       "6    32\n",
       "7    45\n",
       "8  1000"
      ]
     },
     "execution_count": 30,
     "metadata": {},
     "output_type": "execute_result"
    }
   ],
   "source": [
    "# Outliers are numbers in a data set that are vastly larger or smaller than the other values in the set. Mean, median and mode\n",
    "# are measures of central tendency. Mean is the only measure of central tendency that is always affected by an outlier.\n",
    "\n",
    "l=[12,14,52,17,15,14,32,45,1000]\n",
    "df = pd.DataFrame({\"A\":l})\n",
    "df\n"
   ]
  },
  {
   "cell_type": "code",
   "execution_count": 31,
   "id": "03971ad1",
   "metadata": {},
   "outputs": [
    {
     "data": {
      "text/plain": [
       "133.44444444444446"
      ]
     },
     "execution_count": 31,
     "metadata": {},
     "output_type": "execute_result"
    }
   ],
   "source": [
    "df[\"A\"].mean()"
   ]
  },
  {
   "cell_type": "code",
   "execution_count": 33,
   "id": "7a9eda5f",
   "metadata": {},
   "outputs": [
    {
     "data": {
      "text/plain": [
       "0    14\n",
       "Name: A, dtype: int64"
      ]
     },
     "execution_count": 33,
     "metadata": {},
     "output_type": "execute_result"
    }
   ],
   "source": [
    "df[\"A\"].mode()"
   ]
  },
  {
   "cell_type": "code",
   "execution_count": 34,
   "id": "7d2800e6",
   "metadata": {},
   "outputs": [
    {
     "data": {
      "text/plain": [
       "17.0"
      ]
     },
     "execution_count": 34,
     "metadata": {},
     "output_type": "execute_result"
    }
   ],
   "source": [
    "df[\"A\"].median()"
   ]
  },
  {
   "cell_type": "code",
   "execution_count": 35,
   "id": "71b85ae0",
   "metadata": {},
   "outputs": [
    {
     "data": {
      "text/plain": [
       "[12, 14, 52, 17, 15, 14, 32, 45]"
      ]
     },
     "execution_count": 35,
     "metadata": {},
     "output_type": "execute_result"
    }
   ],
   "source": [
    "#After removing Outlier i.e 1000\n",
    "l.remove(1000)\n",
    "l"
   ]
  },
  {
   "cell_type": "code",
   "execution_count": 37,
   "id": "1b7e2d32",
   "metadata": {},
   "outputs": [
    {
     "data": {
      "text/html": [
       "<div>\n",
       "<style scoped>\n",
       "    .dataframe tbody tr th:only-of-type {\n",
       "        vertical-align: middle;\n",
       "    }\n",
       "\n",
       "    .dataframe tbody tr th {\n",
       "        vertical-align: top;\n",
       "    }\n",
       "\n",
       "    .dataframe thead th {\n",
       "        text-align: right;\n",
       "    }\n",
       "</style>\n",
       "<table border=\"1\" class=\"dataframe\">\n",
       "  <thead>\n",
       "    <tr style=\"text-align: right;\">\n",
       "      <th></th>\n",
       "      <th>A</th>\n",
       "    </tr>\n",
       "  </thead>\n",
       "  <tbody>\n",
       "    <tr>\n",
       "      <th>0</th>\n",
       "      <td>12</td>\n",
       "    </tr>\n",
       "    <tr>\n",
       "      <th>1</th>\n",
       "      <td>14</td>\n",
       "    </tr>\n",
       "    <tr>\n",
       "      <th>2</th>\n",
       "      <td>52</td>\n",
       "    </tr>\n",
       "    <tr>\n",
       "      <th>3</th>\n",
       "      <td>17</td>\n",
       "    </tr>\n",
       "    <tr>\n",
       "      <th>4</th>\n",
       "      <td>15</td>\n",
       "    </tr>\n",
       "    <tr>\n",
       "      <th>5</th>\n",
       "      <td>14</td>\n",
       "    </tr>\n",
       "    <tr>\n",
       "      <th>6</th>\n",
       "      <td>32</td>\n",
       "    </tr>\n",
       "    <tr>\n",
       "      <th>7</th>\n",
       "      <td>45</td>\n",
       "    </tr>\n",
       "  </tbody>\n",
       "</table>\n",
       "</div>"
      ],
      "text/plain": [
       "    A\n",
       "0  12\n",
       "1  14\n",
       "2  52\n",
       "3  17\n",
       "4  15\n",
       "5  14\n",
       "6  32\n",
       "7  45"
      ]
     },
     "execution_count": 37,
     "metadata": {},
     "output_type": "execute_result"
    }
   ],
   "source": [
    "df = pd.DataFrame({\"A\":l})\n",
    "df"
   ]
  },
  {
   "cell_type": "code",
   "execution_count": 38,
   "id": "7a17d88f",
   "metadata": {},
   "outputs": [
    {
     "data": {
      "text/plain": [
       "25.125"
      ]
     },
     "execution_count": 38,
     "metadata": {},
     "output_type": "execute_result"
    }
   ],
   "source": [
    "df[\"A\"].mean()\n",
    "#mean is very low as compare to previous because that time Outlier(1000) was present in datasets"
   ]
  },
  {
   "cell_type": "code",
   "execution_count": 39,
   "id": "bd5b341c",
   "metadata": {},
   "outputs": [
    {
     "data": {
      "text/plain": [
       "0    14\n",
       "Name: A, dtype: int64"
      ]
     },
     "execution_count": 39,
     "metadata": {},
     "output_type": "execute_result"
    }
   ],
   "source": [
    "df[\"A\"].mode()"
   ]
  },
  {
   "cell_type": "code",
   "execution_count": 40,
   "id": "69ec5121",
   "metadata": {},
   "outputs": [
    {
     "data": {
      "text/plain": [
       "16.0"
      ]
     },
     "execution_count": 40,
     "metadata": {},
     "output_type": "execute_result"
    }
   ],
   "source": [
    "df[\"A\"].median()"
   ]
  },
  {
   "cell_type": "code",
   "execution_count": 41,
   "id": "8a564bcb",
   "metadata": {},
   "outputs": [],
   "source": [
    "# So from above it is clear that Outlier affects central tendency specifically mean"
   ]
  },
  {
   "cell_type": "code",
   "execution_count": null,
   "id": "0bc2789c",
   "metadata": {},
   "outputs": [],
   "source": []
  }
 ],
 "metadata": {
  "kernelspec": {
   "display_name": "Python 3 (ipykernel)",
   "language": "python",
   "name": "python3"
  },
  "language_info": {
   "codemirror_mode": {
    "name": "ipython",
    "version": 3
   },
   "file_extension": ".py",
   "mimetype": "text/x-python",
   "name": "python",
   "nbconvert_exporter": "python",
   "pygments_lexer": "ipython3",
   "version": "3.11.4"
  }
 },
 "nbformat": 4,
 "nbformat_minor": 5
}
